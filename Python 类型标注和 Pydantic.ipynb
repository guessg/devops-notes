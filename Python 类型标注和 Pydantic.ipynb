{
 "cells": [
  {
   "cell_type": "markdown",
   "id": "25986b34-5e5f-4a86-ab99-f5bcf2011a60",
   "metadata": {},
   "source": [
    "# Python 基础类型标注"
   ]
  },
  {
   "cell_type": "markdown",
   "id": "00bfa341-878a-4d46-9395-ed03a17e0b8c",
   "metadata": {},
   "source": [
    "##  Python 基础类型标注"
   ]
  },
  {
   "cell_type": "code",
   "execution_count": 2,
   "id": "fb8afe22-c509-4ed1-86c8-0155aad8c697",
   "metadata": {},
   "outputs": [],
   "source": [
    "class User(object):\n",
    "    def __init__(self, name: str, age: int):\n",
    "        self.name = name\n",
    "        self.age = age"
   ]
  },
  {
   "cell_type": "code",
   "execution_count": 3,
   "id": "3468c18b-182b-4cdc-8a0b-d5bf44c0af57",
   "metadata": {},
   "outputs": [],
   "source": [
    "user = User(\"heshuhao\", 18)"
   ]
  },
  {
   "cell_type": "code",
   "execution_count": 9,
   "id": "a5547209-743b-4789-8b64-d0788d487aab",
   "metadata": {},
   "outputs": [
    {
     "name": "stdout",
     "output_type": "stream",
     "text": [
      "<class 'int'>\n"
     ]
    }
   ],
   "source": [
    "print(type(user.age))"
   ]
  },
  {
   "cell_type": "code",
   "execution_count": 11,
   "id": "f44a4924-655b-4b8e-8df4-f6b250b46d14",
   "metadata": {},
   "outputs": [],
   "source": [
    "user2 = User(\"heshuhao\", \"18\")  # type hints 不影响执行，IDE 用来进行静态检查"
   ]
  },
  {
   "cell_type": "code",
   "execution_count": 12,
   "id": "2a7d02e3-8ee3-465c-a9fa-16f5c0aedee2",
   "metadata": {},
   "outputs": [
    {
     "name": "stdout",
     "output_type": "stream",
     "text": [
      "<class 'str'>\n"
     ]
    }
   ],
   "source": [
    "print(type(user2.age))"
   ]
  },
  {
   "cell_type": "code",
   "execution_count": 13,
   "id": "6110d92d-1549-4615-ad7f-2782efe15db2",
   "metadata": {},
   "outputs": [],
   "source": [
    "# list, tuple, dict"
   ]
  },
  {
   "cell_type": "code",
   "execution_count": 14,
   "id": "721245f2-5b0a-4a33-9a9b-8938ee660f82",
   "metadata": {},
   "outputs": [],
   "source": [
    "from typing import List, Tuple, Dict"
   ]
  },
  {
   "cell_type": "code",
   "execution_count": 15,
   "id": "7d7a4ebe-7bb9-41bf-85e5-fb03933d6f6d",
   "metadata": {},
   "outputs": [],
   "source": [
    "# list\n",
    "l: List[int] = [1, 2, 3]\n",
    "\n",
    "# Tuple\n",
    "t: Tuple[str, ...] = (\"a\", \"b\")\n",
    "\n",
    "# dict\n",
    "d: Dict[str, int] = {\n",
    "    \"a\": 1,\n",
    "    \"b\": 2,\n",
    "}"
   ]
  },
  {
   "cell_type": "code",
   "execution_count": 18,
   "id": "ee9a41ca-b3cf-49d3-bacf-404ebd651231",
   "metadata": {},
   "outputs": [
    {
     "data": {
      "text/plain": [
       "'User name: Tim, age: 18.'"
      ]
     },
     "execution_count": 18,
     "metadata": {},
     "output_type": "execute_result"
    }
   ],
   "source": [
    "# 自定义类型\n",
    "def repr_user(u: User) -> str:\n",
    "    return f\"User name: {u.name}, age: {u.age}.\"\n",
    "\n",
    "repr_user(User(\"Tim\", 18))"
   ]
  },
  {
   "cell_type": "code",
   "execution_count": 19,
   "id": "a2ad9e75-8639-44c4-bff7-e7f13a963256",
   "metadata": {},
   "outputs": [],
   "source": [
    "# typing alias 别名\n",
    "config: list[tuple[str, int], dict[str, str]] = [\n",
    "    (\"127.0.0.1\", 8080),\n",
    "    {\n",
    "        \"MYSQL_DB\": \"db\",\n",
    "        \"MYSQL_USER\": \"user\",\n",
    "        \"MYSQL_PASS\": \"pass\",\n",
    "        \"MYSQL_HOST\": \"127.0.0.1\",\n",
    "        \"MYSQL_PORT\": \"3306\",\n",
    "    },\n",
    "]\n",
    "\n",
    "def start_server(config: list[tuple[str, int], dict[str, str]]) -> None:\n",
    "    pass\n",
    "\n",
    "start_server(config)"
   ]
  },
  {
   "cell_type": "code",
   "execution_count": 20,
   "id": "292ca1a5-90a2-4da6-88bd-bbe3d1ac03d1",
   "metadata": {},
   "outputs": [],
   "source": [
    "Config = list[tuple[str, int], dict[str, str]]\n",
    "\n",
    "\n",
    "config: Config = [\n",
    "    (\"127.0.0.1\", 8080),\n",
    "    {\n",
    "        \"MYSQL_DB\": \"db\",\n",
    "        \"MYSQL_USER\": \"user\",\n",
    "        \"MYSQL_PASS\": \"pass\",\n",
    "        \"MYSQL_HOST\": \"127.0.0.1\",\n",
    "        \"MYSQL_PORT\": \"3306\",\n",
    "    },\n",
    "]\n",
    "\n",
    "def start_server(config: Config) -> None:\n",
    "    pass\n",
    "\n",
    "start_server(config)"
   ]
  },
  {
   "cell_type": "markdown",
   "id": "da6a95b9-2cd2-4abe-a9d3-b3e7ff17135a",
   "metadata": {},
   "source": [
    "## 泛型，接口\n",
    "TypeVar 在 Python 的类型提示（typing）中用于定义泛型变量。以下是使用 TypeVar 的步骤：\n",
    "\n",
    "- 导入 TypeVar：首先从 typing 模块导入 TypeVar。\n",
    "- 创建 TypeVar 实例：使用 TypeVar() 创建一个泛型变量。通常，这个变量作为泛型类型的占位符。\n",
    "- 应用 TypeVar：将创建的 TypeVar 实例用于函数、类或方法，以实现泛型编程。\n"
   ]
  },
  {
   "cell_type": "code",
   "execution_count": 24,
   "id": "b5b17f06-529f-4bf6-a9b4-f471ef93fdd8",
   "metadata": {},
   "outputs": [],
   "source": [
    "from typing import TypeVar, Generic\n",
    "\n",
    "T = TypeVar('T')  # 可以是任何类型\n",
    "\n",
    "def identity(item: T) -> T:\n",
    "    return item\n",
    "\n",
    "class Box(Generic[T]):\n",
    "    def __init__(self, item: T):\n",
    "        self.item = item\n",
    "\n",
    "    def get_item(self) -> T:\n",
    "        return self.item"
   ]
  },
  {
   "cell_type": "code",
   "execution_count": 25,
   "id": "1faf0b79-f1e0-42a0-9a18-d987edd7586f",
   "metadata": {},
   "outputs": [
    {
     "name": "stdout",
     "output_type": "stream",
     "text": [
      "10\n",
      "Generic\n",
      "123\n",
      "Hello\n"
     ]
    }
   ],
   "source": [
    "from typing import TypeVar, Generic\n",
    "\n",
    "T = TypeVar('T')\n",
    "\n",
    "def identity(item: T) -> T:\n",
    "    return item\n",
    "\n",
    "class Box(Generic[T]):\n",
    "    def __init__(self, item: T):\n",
    "        self.item = item\n",
    "\n",
    "    def get_item(self) -> T:\n",
    "        return self.item\n",
    "\n",
    "# 使用泛型函数和类\n",
    "num_box = Box[int](123)\n",
    "str_box = Box[str](\"Hello\")\n",
    "\n",
    "print(identity(10))  # 输出: 10\n",
    "print(identity(\"Generic\"))  # 输出: Generic\n",
    "print(num_box.get_item())  # 输出: 123\n",
    "print(str_box.get_item())  # 输出: Hello"
   ]
  },
  {
   "cell_type": "markdown",
   "id": "ce5697bd-c9b5-4f83-a60e-263dcc37e039",
   "metadata": {},
   "source": [
    "## Callable"
   ]
  },
  {
   "cell_type": "code",
   "execution_count": 27,
   "id": "af8df023-ec2f-4fc8-a762-62b23c55f0a2",
   "metadata": {},
   "outputs": [
    {
     "name": "stdout",
     "output_type": "stream",
     "text": [
      "Addition result: 8\n",
      "Subtraction result: 6\n"
     ]
    }
   ],
   "source": [
    "from typing import Callable\n",
    "\n",
    "# 定义一个函数类型，该函数接受两个 int 类型的参数，返回一个 int 类型的结果\n",
    "Calculator = Callable[[int, int], int]\n",
    "\n",
    "# 使用 Callable 类型注解函数参数\n",
    "def perform_operation(operation: Calculator, x: int, y: int) -> int:\n",
    "    return operation(x, y)\n",
    "\n",
    "# 定义符合 Calculator 类型签名的函数\n",
    "def add(x: int, y: int) -> int:\n",
    "    return x + y\n",
    "\n",
    "def subtract(x: int, y: int) -> int:\n",
    "    return x - y\n",
    "\n",
    "# 使用定义好的函数\n",
    "result_add = perform_operation(add, 5, 3)  # 应该返回 8\n",
    "result_subtract = perform_operation(subtract, 10, 4)  # 应该返回 6\n",
    "\n",
    "print(f\"Addition result: {result_add}\")  # 输出: Addition result: 8\n",
    "print(f\"Subtraction result: {result_subtract}\")  # 输出: Subtraction result: 6"
   ]
  },
  {
   "cell_type": "markdown",
   "id": "f06bd4fd-b3d6-41b2-9e86-d53243879e10",
   "metadata": {},
   "source": [
    "## interface"
   ]
  },
  {
   "cell_type": "code",
   "execution_count": 28,
   "id": "d6ae0dd1-88ff-4109-93a9-04e0f927f62f",
   "metadata": {},
   "outputs": [
    {
     "name": "stdout",
     "output_type": "stream",
     "text": [
      "Hello, Alice!\n",
      "Hola, Bob!\n"
     ]
    }
   ],
   "source": [
    "from typing import Protocol\n",
    "\n",
    "# 步骤 2: 定义一个 Protocol\n",
    "class GreeterProtocol(Protocol):\n",
    "    def greet(self, name: str) -> str:\n",
    "        ...\n",
    "\n",
    "# 步骤 3: 实现该 Protocol\n",
    "class EnglishGreeter:\n",
    "    def greet(self, name: str) -> str:\n",
    "        return f\"Hello, {name}!\"\n",
    "\n",
    "class SpanishGreeter:\n",
    "    def greet(self, name: str) -> str:\n",
    "        return f\"Hola, {name}!\"\n",
    "\n",
    "# 使用 Protocol 类型\n",
    "def greet_someone(greeter: GreeterProtocol, name: str) -> None:\n",
    "    print(greeter.greet(name))\n",
    "\n",
    "# 实例化并使用实现了 Protocol 的类\n",
    "english_greeter = EnglishGreeter()\n",
    "spanish_greeter = SpanishGreeter()\n",
    "\n",
    "greet_someone(english_greeter, \"Alice\")  # 输出: Hello, Alice!\n",
    "greet_someone(spanish_greeter, \"Bob\")    # 输出: Hola, Bob!"
   ]
  },
  {
   "cell_type": "markdown",
   "id": "aa217fc5-f4f0-40f0-bdd4-fa9e0ad3d3f1",
   "metadata": {},
   "source": [
    "## ... 的解释\n",
    "...（省略号）\n",
    "- 用途：... 本身是一个内置的常量，类型是 ellipsis。在 Python 中，它的主要用途是作为一个占位符，或者表示未完成的代码。但在某些上下文中（如 NumPy 切片或类型提示），它有特殊的含义。\n",
    "- 场景：在实现抽象基类或接口时，可以使用 ... 表示方法体尚未实现。此外，在使用高级切片技术时，... 用于表示多维数组的剩余维度。"
   ]
  },
  {
   "cell_type": "markdown",
   "id": "5937dd15-13c1-4917-b491-0af7387a8623",
   "metadata": {},
   "source": [
    "# Type hints 进阶"
   ]
  },
  {
   "cell_type": "markdown",
   "id": "20f32fd9-97a5-44a1-83a0-58afb5f270b7",
   "metadata": {},
   "source": [
    "## dataclass\n",
    "Python 的 dataclass 是一个装饰器和函数，用于自动添加特殊方法，如 __init__()、__repr__()、__eq__() 等到用户定义的类中，从而简化类的定义。\n",
    "\n",
    "它是在 Python 3.7 中引入的，旨在减少编写样板代码的需要。\n",
    "\n",
    "使用步骤：\n",
    "- 导入 dataclass：从 dataclasses 模块导入 dataclass 装饰器。\n",
    "- 定义类：使用 @dataclass 装饰器来装饰一个类。\n",
    "- 添加类型注解的字段：在类中定义字段，并为每个字段添加类型注解。dataclass 将自动使用这些字段来生成特殊方法。"
   ]
  },
  {
   "cell_type": "code",
   "execution_count": 29,
   "id": "5c31608d-d600-4f7b-8e0d-a004f67da48f",
   "metadata": {
    "jupyter": {
     "source_hidden": true
    }
   },
   "outputs": [
    {
     "name": "stdout",
     "output_type": "stream",
     "text": [
      "Product(name='Laptop', price=1000.0, quantity=3)\n",
      "3000.0\n",
      "The history saving thread hit an unexpected error (OperationalError('attempt to write a readonly database')).History will not be written to the database.\n"
     ]
    }
   ],
   "source": [
    "from dataclasses import dataclass\n",
    "\n",
    "@dataclass\n",
    "class Product:\n",
    "    name: str\n",
    "    price: float\n",
    "    quantity: int = 0  # 可以提供默认值\n",
    "\n",
    "    def total_cost(self) -> float:\n",
    "        return self.price * self.quantity\n",
    "\n",
    "# 使用 dataclass 定义的类\n",
    "product = Product(name=\"Laptop\", price=1000.0, quantity=3)\n",
    "\n",
    "print(product)  # 自动生成的 __repr__ 方法提供友好的打印输出\n",
    "print(product.total_cost())  # 调用自定义方法计算总成本"
   ]
  },
  {
   "cell_type": "markdown",
   "id": "69078270-ac32-4330-97d7-1fd628c5d668",
   "metadata": {},
   "source": [
    "## pydantic\n",
    "\n",
    "Pydantic 是一个 Python 库，用于数据验证和设置管理，它广泛使用了 Python 的类型提示来定义数据模型的模式。Pydantic 的实现确实涉及到了元编程（metaprogramming）的概念，这是因为它在运行时创建和修改代码的行为，特别是通过使用类装饰器、动态创建类和使用类型注解来实现其功能。\n",
    "\n",
    "Pydantic 的关键实现细节：\n",
    "类型注解：Pydantic 使用 Python 的类型注解来定义数据模型的属性和预期类型。这些类型注解在运行时被解析和使用，以执行数据验证和转换。\n",
    "\n",
    "模型创建：当定义一个 Pydantic 模型时，实际上是在定义一个类，该类继承自 Pydantic 的 BaseModel。在这个过程中，Pydantic 使用元编程技术来分析类定义，提取字段的类型注解，并基于这些注解生成额外的代码和验证逻辑。\n",
    "\n",
    "类装饰器和元类：Pydantic 在内部使用类装饰器和元类来拦截模型类的创建过程。这允许 Pydantic 在类实例化之前注入自定义逻辑，例如自动验证逻辑、字段排序和值转换。\n",
    "\n",
    "动态创建类：Pydantic 动态地创建或修改类，以实现其功能。例如，它会根据模型定义动态生成 __init__ 方法，该方法包含对每个字段进行验证和转换的逻辑。\n",
    "\n",
    "字段验证：Pydantic 使用声明式验证装饰器来定义如何验证模型的字段。这些验证函数在运行时被收集和组织，然后应用于输入数据，以确保数据符合模型的预期。\n",
    "\n",
    "示例：\n",
    "```python\n",
    "from pydantic import BaseModel\n",
    "\n",
    "class User(BaseModel):\n",
    "    id: int\n",
    "    name: str = \"John Doe\"  # 默认值\n",
    "    signup_ts: Optional[datetime] = None\n",
    "```\n",
    "在这个例子中，当你创建一个 User 实例时，Pydantic 会自动验证 id 字段是否为整数、name 是否为字符串等，并且会处理默认值和可选类型。\n",
    "\n",
    "结论：\n",
    "Pydantic 的实现依赖于 Python 的元编程特性，特别是类装饰器、元类和动态类创建。这些技术使得 Pydantic 能够提供强大而灵活的数据验证和设置管理功能，同时保持简洁的用户 API。通过使用类型注解，Pydantic 也利用了 Python 类型系统的力量，为开发者提供了一种类型安全且表达力强的方式来定义数据模型。"
   ]
  },
  {
   "cell_type": "code",
   "execution_count": null,
   "id": "2b82dd1f-6d2c-4c11-99df-e7c9a5f36934",
   "metadata": {},
   "outputs": [],
   "source": []
  }
 ],
 "metadata": {
  "kernelspec": {
   "display_name": "Python 3 (ipykernel)",
   "language": "python",
   "name": "python3"
  },
  "language_info": {
   "codemirror_mode": {
    "name": "ipython",
    "version": 3
   },
   "file_extension": ".py",
   "mimetype": "text/x-python",
   "name": "python",
   "nbconvert_exporter": "python",
   "pygments_lexer": "ipython3",
   "version": "3.12.3"
  }
 },
 "nbformat": 4,
 "nbformat_minor": 5
}
